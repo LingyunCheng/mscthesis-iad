{
 "cells": [
  {
   "cell_type": "code",
   "execution_count": 70,
   "metadata": {},
   "outputs": [],
   "source": [
    "import matplotlib.pyplot as plt\n",
    "from intand import datasets, Evaluation, feedback_loop\n",
    "from intand.ensembles import IsoForest\n",
    "from intand.models import Unsupervised, OJRank, OMD, AAD\n",
    "import intand\n",
    "from sklearn.decomposition import PCA\n",
    "from sklearn.ensemble import IsolationForest"
   ]
  },
  {
   "cell_type": "code",
   "execution_count": 71,
   "metadata": {},
   "outputs": [],
   "source": [
    "X, y = datasets.load_dataset('Abalone', normalize=True)"
   ]
  },
  {
   "cell_type": "code",
   "execution_count": 72,
   "metadata": {},
   "outputs": [],
   "source": [
    "import pandas as pd\n",
    "import numpy as np\n",
    "from sklearn.ensemble import RandomForestClassifier\n",
    "import copy"
   ]
  },
  {
   "cell_type": "code",
   "execution_count": 73,
   "metadata": {},
   "outputs": [],
   "source": [
    "My_pred = IsolationForest(contamination='auto',behaviour='deprecated').fit_predict(X)"
   ]
  },
  {
   "cell_type": "code",
   "execution_count": 74,
   "metadata": {},
   "outputs": [],
   "source": [
    "My_pred=pd.DataFrame(My_pred)\n",
    "My_pred=np.array(My_pred.replace(np.unique(My_pred),[1,-1]))"
   ]
  },
  {
   "cell_type": "code",
   "execution_count": 75,
   "metadata": {},
   "outputs": [
    {
     "data": {
      "text/plain": [
       "{-1: 1639, 1: 281}"
      ]
     },
     "execution_count": 75,
     "metadata": {},
     "output_type": "execute_result"
    }
   ],
   "source": [
    "unique, counts = np.unique(My_pred, return_counts=True)\n",
    "t=dict(zip(unique, counts))\n",
    "t"
   ]
  },
  {
   "cell_type": "code",
   "execution_count": 82,
   "metadata": {},
   "outputs": [],
   "source": [
    "Budget = 5\n",
    "feed = []\n",
    "correct = wrong = 0\n",
    "forest = RandomForestClassifier(n_estimators=50, random_state=1)"
   ]
  },
  {
   "cell_type": "code",
   "execution_count": 77,
   "metadata": {},
   "outputs": [],
   "source": [
    "def eud_dist(x,y):\n",
    "    dist=[]\n",
    "    for ele in y:\n",
    "        dist.append(np.sum(np.power(np.subtract(x,ele),2))) \n",
    "    return dist\n"
   ]
  },
  {
   "cell_type": "code",
   "execution_count": 86,
   "metadata": {},
   "outputs": [
    {
     "name": "stdout",
     "output_type": "stream",
     "text": [
      "950\n",
      "1320\n",
      "1057\n",
      "544\n",
      "488\n"
     ]
    }
   ],
   "source": [
    "for i in range(Budget): \n",
    "    scores = forest.fit(X, np.ravel(My_pred,order='C')).predict_proba(X)[:, 1]\n",
    "    scores[feed] = -np.inf\n",
    "    temp_score=np.argsort(scores)\n",
    "    ind=temp_score[-1]\n",
    "    #feed.append(ind)\n",
    "    print(ind)\n",
    "    if((My_pred[ind]==1) and (y[ind]==1)):\n",
    "        pass\n",
    "    else:\n",
    "        My_pred[ind] = y[ind]\n",
    "    similarity=eud_dist(X[ind],X)\n",
    "    temp_score=np.argsort(similarity)\n",
    "    My_pred[list(temp_score[:15])]=y[ind]\n",
    "    for i in list(temp_score[:15]):\n",
    "        feed.append(i)"
   ]
  },
  {
   "cell_type": "markdown",
   "metadata": {},
   "source": []
  }
 ],
 "metadata": {
  "kernelspec": {
   "display_name": "Python 3",
   "language": "python",
   "name": "python3"
  },
  "language_info": {
   "codemirror_mode": {
    "name": "ipython",
    "version": 3
   },
   "file_extension": ".py",
   "mimetype": "text/x-python",
   "name": "python",
   "nbconvert_exporter": "python",
   "pygments_lexer": "ipython3",
   "version": "3.7.3"
  }
 },
 "nbformat": 4,
 "nbformat_minor": 2
}
