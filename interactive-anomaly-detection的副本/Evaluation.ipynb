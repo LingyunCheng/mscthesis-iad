{
 "cells": [
  {
   "cell_type": "markdown",
   "metadata": {},
   "source": [
    "# Introduction\n",
    "The following examples show how to use the **intand** (**INT**eractive **AN**omaly **D**etection) to detect anomalies in a dataset by repeatedly interacting with a human expert and incorporating his feedback.\n",
    "\n",
    "Installation:\n",
    "\n",
    "```\n",
    "$ git clone XXX\n",
    "$ cd interactive-anomaly-detection\n",
    "$ pip install .\n",
    "```"
   ]
  },
  {
   "cell_type": "code",
   "execution_count": 4,
   "metadata": {},
   "outputs": [
    {
     "name": "stdout",
     "output_type": "stream",
     "text": [
      "VERSION: 0.1.0\n"
     ]
    }
   ],
   "source": [
    "import os\n",
    "%matplotlib notebook\n",
    "import matplotlib.pyplot as plt\n",
    "import sys\n",
    "sys.path\n",
    "sys.path.append('/Users/chenglingyun/Desktop/interactive-anomaly-detection/examples')\n",
    "from intand import datasets, Evaluation, feedback_loop\n",
    "from intand.ensembles import IsoForest\n",
    "from intand.models import Unsupervised, OJRank, OMD, AAD,PAD\n",
    "from sklearn.ensemble import IsolationForest\n",
    "from sklearn.ensemble import RandomForestClassifier\n",
    "from sklearn.neighbors import LocalOutlierFactor\n",
    "from sklearn.cluster import KMeans\n",
    "import pandas as pd\n",
    "import numpy as np\n",
    "import math\n",
    "import intand\n",
    "print(\"VERSION:\", intand.__version__)"
   ]
  },
  {
   "cell_type": "code",
   "execution_count": null,
   "metadata": {},
   "outputs": [],
   "source": [
    "#path where data is stored\n",
    "path = '/Users/chenglingyun/Desktop/interactive-anomaly-detection/examples/intand/datasets/data'\n",
    "\n",
    "files = os.listdir(path)\n",
    "for data in files:\n",
    "    dataset=data.split('.')[0]\n",
    "    #loading dataset\n",
    "    X, y = datasets.load_dataset(dataset, normalize=True)\n",
    "    dim=X.shape\n",
    "    n = dim[0]\n",
    "    root = int(math.sqrt(n))\n",
    "    \n",
    "    name='myExperiment-LOF-root-'+dataset\n",
    "    eva = Evaluation(y, expname=name)\n",
    "    for _ in range(5):\n",
    "        #PAD\n",
    "        '''Z1 = IsoForest(n_trees=1).fit(X).transform(X)\n",
    "        My_pred=np.full((X.shape[0], 1), -1)\n",
    "        anomaly_ind=np.argsort(Z1,axis=0)[-(int (0.1*X.shape[0])):]\n",
    "        My_pred[anomaly_ind]=1\n",
    "        pseudoy = np.ravel(My_pred ,order='C')'''\n",
    "        \n",
    "        lof = LocalOutlierFactor(n_neighbors=20, contamination=0.1)\n",
    "        y_pred = lof.fit_predict(X)\n",
    "        pseudoy = -y_pred\n",
    "        clf = RandomForestClassifier(n_estimators=50, random_state=1)\n",
    "        scores = clf.fit(X, pseudoy ).predict_proba(X)[:, 1]\n",
    "        Zp = np.asmatrix(scores)\n",
    "        Zp = np.transpose(Zp)\n",
    "        \n",
    "    \n",
    "        #Z with cluster\n",
    "        isolation_forest = IsolationForest(n_estimators=100,contamination='auto',behaviour='deprecated').fit(X)\n",
    "        anomaly_score = -(isolation_forest.score_samples(X))\n",
    "        Z_cluster=np.array([], dtype=np.int64).reshape(dim[0],0)\n",
    "        for cluster in range(2,11):\n",
    "            kmeans = KMeans(n_clusters=cluster).fit(X).labels_\n",
    "            z=np.zeros((dim[0], cluster))\n",
    "            for instance in range(dim[0]):\n",
    "                col=kmeans[instance]\n",
    "                z[instance,col]=anomaly_score[instance]\n",
    "            Z_cluster=np.hstack([Z_cluster,z])\n",
    "        \n",
    "        #Z original\n",
    "        Z = IsoForest().fit(X).transform(X)\n",
    "        eva.run([Unsupervised(Z, X), OJRank(Z, X), OMD(Z, X),Unsupervised(Z_cluster, X), OJRank(Z_cluster, X), OMD(Z_cluster, X), PAD(Zp,pseudoy,root,X) ])\n",
    "    name_g=name+'.json'\n",
    "    eva.plot_results(name_g, \"precision\")\n",
    "    eva.plot_results(name_g, \"effort\")    "
   ]
  },
  {
   "cell_type": "code",
   "execution_count": null,
   "metadata": {},
   "outputs": [],
   "source": []
  }
 ],
 "metadata": {
  "kernelspec": {
   "display_name": "Python 3",
   "language": "python",
   "name": "python3"
  },
  "language_info": {
   "codemirror_mode": {
    "name": "ipython",
    "version": 3
   },
   "file_extension": ".py",
   "mimetype": "text/x-python",
   "name": "python",
   "nbconvert_exporter": "python",
   "pygments_lexer": "ipython3",
   "version": "3.7.3"
  }
 },
 "nbformat": 4,
 "nbformat_minor": 2
}
